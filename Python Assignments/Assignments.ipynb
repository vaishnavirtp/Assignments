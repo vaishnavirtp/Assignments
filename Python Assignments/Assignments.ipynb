{
 "cells": [
  {
   "cell_type": "markdown",
   "id": "3b5eb348",
   "metadata": {},
   "source": [
    "# Python Fundamentals"
   ]
  },
  {
   "cell_type": "markdown",
   "id": "ea8cb21b",
   "metadata": {},
   "source": [
    "## Assignment 1"
   ]
  },
  {
   "cell_type": "code",
   "execution_count": 4,
   "id": "312a98ac",
   "metadata": {},
   "outputs": [
    {
     "name": "stdout",
     "output_type": "stream",
     "text": [
      "Hello World\n"
     ]
    }
   ],
   "source": [
    "print(\"Hello World\")"
   ]
  },
  {
   "cell_type": "code",
   "execution_count": 3,
   "id": "f0390519",
   "metadata": {},
   "outputs": [
    {
     "name": "stdout",
     "output_type": "stream",
     "text": [
      "Enter Name: Vaishnavi Ranbhare\n",
      "Hello and Welcome : Vaishnavi Ranbhare\n"
     ]
    }
   ],
   "source": [
    "user_name = input(\"Enter Name: \")\n",
    "print(\"Hello and Welcome :\",user_name)"
   ]
  },
  {
   "cell_type": "markdown",
   "id": "a8634177",
   "metadata": {},
   "source": [
    "# Python Basics and Control Flow"
   ]
  },
  {
   "cell_type": "markdown",
   "id": "6647c512",
   "metadata": {},
   "source": [
    "## Assignment 1"
   ]
  },
  {
   "cell_type": "markdown",
   "id": "b6ab6a90",
   "metadata": {},
   "source": [
    " Write a Python program that calculates and displays the area of a rectangle. Prompt the user to enter the length and width of the rectangle, and calculate the area using appropriate variables and operators."
   ]
  },
  {
   "cell_type": "code",
   "execution_count": 7,
   "id": "8be01b55",
   "metadata": {},
   "outputs": [
    {
     "name": "stdout",
     "output_type": "stream",
     "text": [
      "Enter the length of the rectangle in cm10\n",
      "Enter the width of the rectangle in cm33\n",
      "330.0  cms\n"
     ]
    }
   ],
   "source": [
    "length = float(input(\"Enter the length of the rectangle in cm\"))\n",
    "width = float(input(\"Enter the width of the rectangle in cm\"))\n",
    "\n",
    "area = length*width\n",
    "print(area,\" cms\")"
   ]
  },
  {
   "cell_type": "markdown",
   "id": "35f9e709",
   "metadata": {},
   "source": [
    "## Assignment 2"
   ]
  },
  {
   "cell_type": "markdown",
   "id": "87571c45",
   "metadata": {},
   "source": [
    "Create a Python script that determines whether a given number is even or odd. Prompt the user to enter a number, use control flow (if statements), and display an appropriate message indicating whether the number is even or odd."
   ]
  },
  {
   "cell_type": "code",
   "execution_count": 10,
   "id": "543e9702",
   "metadata": {},
   "outputs": [
    {
     "name": "stdout",
     "output_type": "stream",
     "text": [
      "ENTER A NUMBER99\n",
      "The number inputted is odd\n"
     ]
    }
   ],
   "source": [
    "number = int(input(\"ENTER A NUMBER\"))\n",
    "if (number%2 == 0):\n",
    "    print(\"The number inputted is even\")\n",
    "else:\n",
    "    print(\"The number inputted is odd\")"
   ]
  },
  {
   "cell_type": "markdown",
   "id": "feb2cdd0",
   "metadata": {},
   "source": [
    "## Assignment 3 "
   ]
  },
  {
   "cell_type": "markdown",
   "id": "6052dbbd",
   "metadata": {},
   "source": [
    "Write a Python program that generates and prints a Fibonacci sequence. Prompt the user to enter the number of terms they want in the sequence and use loops to generate the sequence accordingly.\n"
   ]
  },
  {
   "cell_type": "code",
   "execution_count": 22,
   "id": "01bd23da",
   "metadata": {},
   "outputs": [
    {
     "name": "stdout",
     "output_type": "stream",
     "text": [
      "Enter the number of terms to be included for generating Fibonacci Sequence10\n",
      "0\n",
      "1\n",
      "1\n",
      "2\n",
      "3\n",
      "5\n",
      "8\n",
      "13\n",
      "21\n",
      "34\n"
     ]
    }
   ],
   "source": [
    "n = int(input(\"Enter the number of terms to be included for generating Fibonacci Sequence\"))\n",
    "fib1 = 0\n",
    "fib2 = 1\n",
    "i = 1\n",
    "\n",
    "if n == 1:\n",
    "    print(fib1)\n",
    "elif(n == 2):\n",
    "    print(fib1,fib2)\n",
    "else:\n",
    "    print(fib1)\n",
    "    print(fib2)\n",
    "    while i <= n-2:\n",
    "        fib = fib1 + fib2\n",
    "        fib1 = fib2\n",
    "        fib2 = fib\n",
    "        print(fib)\n",
    "        i += 1\n"
   ]
  },
  {
   "cell_type": "markdown",
   "id": "ca7ce5ea",
   "metadata": {},
   "source": [
    "# Functions, Modules, and Data Structures"
   ]
  },
  {
   "cell_type": "markdown",
   "id": "281dd250",
   "metadata": {},
   "source": [
    "## Assignment 1"
   ]
  },
  {
   "cell_type": "markdown",
   "id": "61df70a9",
   "metadata": {},
   "source": [
    "Create a Python function that accepts a string as an argument and counts the number of vowels (a, e, i, o, u) in the string. Return the count as the output of the function."
   ]
  },
  {
   "cell_type": "code",
   "execution_count": 26,
   "id": "8b9a53de",
   "metadata": {},
   "outputs": [
    {
     "name": "stdout",
     "output_type": "stream",
     "text": [
      "Enter a string: Hello Welcome to Psycho Pass\n",
      "Number of Vowels in the string are:  8\n"
     ]
    }
   ],
   "source": [
    "def CountVowels(text):\n",
    "    count = 0\n",
    "    vowels = [\"a\",\"e\",\"i\",\"o\",\"u\"]\n",
    "    for i in text:\n",
    "        if i in vowels:\n",
    "            count += 1\n",
    "    return count\n",
    "\n",
    "text = str(input(\"Enter a string: \"))\n",
    "print(\"Number of Vowels in the string are: \",CountVowels(text))\n",
    "        "
   ]
  },
  {
   "cell_type": "markdown",
   "id": "9448a8dd",
   "metadata": {},
   "source": [
    "## Assignment 2"
   ]
  },
  {
   "cell_type": "markdown",
   "id": "ac5edeab",
   "metadata": {},
   "source": [
    "Write a Python program that imports a custom module. The module should contain a function that takes a list of numbers as input and returns the sum of all the numbers in the list. Use this function to calculate and display the sum of a given list of numbers."
   ]
  },
  {
   "cell_type": "code",
   "execution_count": 38,
   "id": "bf7bd76a",
   "metadata": {},
   "outputs": [],
   "source": [
    "import Module_sum as md"
   ]
  },
  {
   "cell_type": "code",
   "execution_count": 40,
   "id": "e1b66bdc",
   "metadata": {},
   "outputs": [
    {
     "name": "stdout",
     "output_type": "stream",
     "text": [
      "Sum of all the numbers from the list:  55\n"
     ]
    }
   ],
   "source": [
    "numList  = [1,2,3,4,5,6,7,8,9,10]\n",
    "\n",
    "print(\"Sum of all the numbers from the list: \",md.SumDirect(numList))"
   ]
  },
  {
   "cell_type": "markdown",
   "id": "623efa09",
   "metadata": {},
   "source": [
    "## Assignment 3\n"
   ]
  },
  {
   "cell_type": "markdown",
   "id": "1d95bf35",
   "metadata": {},
   "source": [
    "Implement a Python program that accepts a sentence as input and converts it into a list of words. Use the split() function and store the words in a list. Then, iterate over the list and display each word in uppercase."
   ]
  },
  {
   "cell_type": "code",
   "execution_count": 42,
   "id": "4f78fd4e",
   "metadata": {},
   "outputs": [
    {
     "name": "stdout",
     "output_type": "stream",
     "text": [
      "HELLO\n",
      "THIS\n",
      "IS\n",
      "SKGM\n",
      "AND\n",
      "GNZS\n"
     ]
    }
   ],
   "source": [
    "def ConvertTextToList(text):\n",
    "    listWords = text.split()\n",
    "    for i in listWords:\n",
    "        print(i.upper())\n",
    "        \n",
    "ConvertTextToList(\"Hello This is SKGM and GNZS\")"
   ]
  },
  {
   "cell_type": "markdown",
   "id": "f98e4bb0",
   "metadata": {},
   "source": [
    "# File Input/Output and Exception Handling"
   ]
  },
  {
   "cell_type": "markdown",
   "id": "9fcc5c29",
   "metadata": {},
   "source": [
    "## Assignment 1\n"
   ]
  },
  {
   "cell_type": "markdown",
   "id": "8b284c08",
   "metadata": {},
   "source": [
    "Write a Python program that reads a text file and counts the number of lines in the file. Display the total number of lines as the output."
   ]
  },
  {
   "cell_type": "code",
   "execution_count": 51,
   "id": "4fce7320",
   "metadata": {},
   "outputs": [],
   "source": [
    "def ReadFile():\n",
    "    count = 0\n",
    "    with open(\"students.csv\",\"r\") as file:\n",
    "        count = len(file.readlines())\n",
    "    print(count)\n",
    "    "
   ]
  },
  {
   "cell_type": "code",
   "execution_count": 52,
   "id": "65dfd91b",
   "metadata": {},
   "outputs": [
    {
     "name": "stdout",
     "output_type": "stream",
     "text": [
      "5\n"
     ]
    }
   ],
   "source": [
    "ReadFile()"
   ]
  },
  {
   "cell_type": "markdown",
   "id": "5745e09c",
   "metadata": {},
   "source": [
    "## Assignment 2"
   ]
  },
  {
   "cell_type": "markdown",
   "id": "8bcdffc7",
   "metadata": {},
   "source": [
    "Create a Python script that prompts the user to enter their name and saves it to a text file. Handle any file-related exceptions that may occur during the process.\n"
   ]
  },
  {
   "cell_type": "code",
   "execution_count": 95,
   "id": "fba26b0d",
   "metadata": {},
   "outputs": [],
   "source": [
    "def CreateTextFile():\n",
    "    \n",
    "    \n",
    "    fileName = \"assign.txt\"\n",
    "    with open(fileName,\"w\") as file:\n",
    "            name = str(input(\"Enter name to save in a file: \"))    \n",
    "            file.write(name)\n",
    "    file = open(fileName, \"r\")\n",
    "    for line in file:\n",
    "                print(\"File Output: \")\n",
    "                print(line)\n",
    "        \n",
    "    try: \n",
    "        Newfile = \"file.txt\"\n",
    "        with open(Newfile) as f:\n",
    "            f.read()\n",
    "    except FileNotFoundError:\n",
    "        print(\"No such file name \"+Newfile+ \" exists\")\n",
    "    "
   ]
  },
  {
   "cell_type": "code",
   "execution_count": 96,
   "id": "cbe27f5e",
   "metadata": {},
   "outputs": [
    {
     "name": "stdout",
     "output_type": "stream",
     "text": [
      "Enter name to save in a file: Psycho-Pass (stylized in all caps) is a Japanese cyberpunk psychological thriller anime television series produced by Production I.G.\n",
      "File Output: \n",
      "Psycho-Pass (stylized in all caps) is a Japanese cyberpunk psychological thriller anime television series produced by Production I.G.\n",
      "No such file name file.txt exists\n"
     ]
    }
   ],
   "source": [
    "CreateTextFile()"
   ]
  },
  {
   "cell_type": "markdown",
   "id": "a6aa1cec",
   "metadata": {},
   "source": [
    "## Assignment 3"
   ]
  },
  {
   "cell_type": "markdown",
   "id": "768912d0",
   "metadata": {},
   "source": [
    "Implement a Python program that reads a CSV file containing student records. Each line in the file represents a student's name and their corresponding scores in multiple subjects. Calculate the average score for each student and display the results.(Do not use any third party library)"
   ]
  },
  {
   "cell_type": "code",
   "execution_count": 216,
   "id": "20a87094",
   "metadata": {
    "scrolled": true
   },
   "outputs": [],
   "source": [
    "def average():\n",
    "    Sum = 0\n",
    "    marklist = []\n",
    "    with open('students.csv', 'r') as f:\n",
    "        for line in f.readlines():\n",
    "            l = line.strip().split(',')\n",
    "            marklist.append(l)\n",
    "\n",
    "    del marklist[0]\n",
    "    for term in marklist:\n",
    "        name = term[0]\n",
    "        del term[0]\n",
    "        for i in term:\n",
    "            Sum += int(i)\n",
    "        print(\"Average marks of \"+name+\" are \"+str(Sum/3))\n",
    "        Sum = 0\n",
    "\n"
   ]
  },
  {
   "cell_type": "code",
   "execution_count": 217,
   "id": "cb93b137",
   "metadata": {},
   "outputs": [
    {
     "name": "stdout",
     "output_type": "stream",
     "text": [
      "Average marks of John Doe are 84.33333333333333\n",
      "Average marks of Jane Smith are 91.66666666666667\n",
      "Average marks of Tom Wilson are 81.0\n",
      "Average marks of Emily Brown are 91.66666666666667\n"
     ]
    }
   ],
   "source": [
    "average()"
   ]
  },
  {
   "cell_type": "code",
   "execution_count": null,
   "id": "02d320e9",
   "metadata": {},
   "outputs": [],
   "source": []
  }
 ],
 "metadata": {
  "kernelspec": {
   "display_name": "Python 3 (ipykernel)",
   "language": "python",
   "name": "python3"
  },
  "language_info": {
   "codemirror_mode": {
    "name": "ipython",
    "version": 3
   },
   "file_extension": ".py",
   "mimetype": "text/x-python",
   "name": "python",
   "nbconvert_exporter": "python",
   "pygments_lexer": "ipython3",
   "version": "3.10.9"
  }
 },
 "nbformat": 4,
 "nbformat_minor": 5
}
